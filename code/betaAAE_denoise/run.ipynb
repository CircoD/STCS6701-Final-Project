{
 "cells": [
  {
   "cell_type": "code",
   "execution_count": null,
   "metadata": {},
   "outputs": [],
   "source": [
    "from betaAAE_denoise import *\n",
    "from yaml_generator import *\n",
    "\n",
    "generate_config_beta_noise(Beta=1, Noise_Var=0.1)\n",
    "config = yaml_read_config(\"./configs/config_beta=1.noise_var=0.1.yaml\")\n",
    "print(config[\"model_config\"])\n",
    "print(config[\"training_config\"])\n",
    "print(\"----------------------------------\")\n",
    "\n",
    "run(\"./configs/config_beta=1.noise_var=0.1.yaml\")"
   ]
  }
 ],
 "metadata": {
  "kernelspec": {
   "display_name": "local-venv",
   "language": "python",
   "name": "local-venv"
  },
  "language_info": {
   "codemirror_mode": {
    "name": "ipython",
    "version": 3
   },
   "file_extension": ".py",
   "mimetype": "text/x-python",
   "name": "python",
   "nbconvert_exporter": "python",
   "pygments_lexer": "ipython3",
   "version": "3.11.5"
  }
 },
 "nbformat": 4,
 "nbformat_minor": 2
}
